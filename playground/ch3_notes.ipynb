{
 "cells": [
  {
   "cell_type": "markdown",
   "metadata": {},
   "source": [
    "# Ch3 Notes"
   ]
  },
  {
   "cell_type": "markdown",
   "metadata": {},
   "source": [
    "Allow relative importing from the parent folder of our current playground folder:"
   ]
  },
  {
   "cell_type": "code",
   "execution_count": 1,
   "metadata": {
    "collapsed": true
   },
   "outputs": [],
   "source": [
    "# import sys\n",
    "# sys.path.append(\"../\")"
   ]
  },
  {
   "cell_type": "code",
   "execution_count": 5,
   "metadata": {
    "collapsed": true
   },
   "outputs": [],
   "source": [
    "import mnist_loader\n",
    "import network2\n",
    "import random\n",
    "import numpy as np"
   ]
  },
  {
   "cell_type": "code",
   "execution_count": 9,
   "metadata": {},
   "outputs": [],
   "source": [
    "# Make results more easily reproducible\n",
    "random.seed(12345678)\n",
    "np.random.seed(12345678)\n",
    "training_data, validation_data, test_data = mnist_loader.load_data_wrapper()"
   ]
  },
  {
   "cell_type": "markdown",
   "metadata": {},
   "source": [
    "## Use Cross-Entropy as cost function"
   ]
  },
  {
   "cell_type": "code",
   "execution_count": 3,
   "metadata": {
    "collapsed": true
   },
   "outputs": [],
   "source": [
    "net = network2.Network([784, 100, 10], cost=network2.CrossEntropyCost)"
   ]
  },
  {
   "cell_type": "code",
   "execution_count": 4,
   "metadata": {},
   "outputs": [
    {
     "name": "stdout",
     "output_type": "stream",
     "text": [
      "Epoch 0 complete\n",
      "Accuracy on evaluation data: 8944 / 10000\n",
      "Epoch 1 complete\n",
      "Accuracy on evaluation data: 9186 / 10000\n",
      "Epoch 2 complete\n",
      "Accuracy on evaluation data: 9293 / 10000\n",
      "Epoch 3 complete\n",
      "Accuracy on evaluation data: 9361 / 10000\n",
      "Epoch 4 complete\n",
      "Accuracy on evaluation data: 9442 / 10000\n",
      "Epoch 5 complete\n",
      "Accuracy on evaluation data: 9476 / 10000\n",
      "Epoch 6 complete\n",
      "Accuracy on evaluation data: 9499 / 10000\n",
      "Epoch 7 complete\n",
      "Accuracy on evaluation data: 9543 / 10000\n",
      "Epoch 8 complete\n",
      "Accuracy on evaluation data: 9553 / 10000\n",
      "Epoch 9 complete\n",
      "Accuracy on evaluation data: 9574 / 10000\n",
      "Epoch 10 complete\n",
      "Accuracy on evaluation data: 9567 / 10000\n",
      "Epoch 11 complete\n",
      "Accuracy on evaluation data: 9593 / 10000\n",
      "Epoch 12 complete\n",
      "Accuracy on evaluation data: 9612 / 10000\n",
      "Epoch 13 complete\n",
      "Accuracy on evaluation data: 9629 / 10000\n",
      "Epoch 14 complete\n",
      "Accuracy on evaluation data: 9633 / 10000\n",
      "Epoch 15 complete\n",
      "Accuracy on evaluation data: 9632 / 10000\n",
      "Epoch 16 complete\n",
      "Accuracy on evaluation data: 9650 / 10000\n",
      "Epoch 17 complete\n",
      "Accuracy on evaluation data: 9646 / 10000\n",
      "Epoch 18 complete\n",
      "Accuracy on evaluation data: 9654 / 10000\n",
      "Epoch 19 complete\n",
      "Accuracy on evaluation data: 9670 / 10000\n",
      "Epoch 20 complete\n",
      "Accuracy on evaluation data: 9669 / 10000\n",
      "Epoch 21 complete\n",
      "Accuracy on evaluation data: 9683 / 10000\n",
      "Epoch 22 complete\n",
      "Accuracy on evaluation data: 9684 / 10000\n",
      "Epoch 23 complete\n",
      "Accuracy on evaluation data: 9683 / 10000\n",
      "Epoch 24 complete\n",
      "Accuracy on evaluation data: 9687 / 10000\n",
      "Epoch 25 complete\n",
      "Accuracy on evaluation data: 9687 / 10000\n",
      "Epoch 26 complete\n",
      "Accuracy on evaluation data: 9693 / 10000\n",
      "Epoch 27 complete\n",
      "Accuracy on evaluation data: 9691 / 10000\n",
      "Epoch 28 complete\n",
      "Accuracy on evaluation data: 9697 / 10000\n",
      "Epoch 29 complete\n",
      "Accuracy on evaluation data: 9700 / 10000\n",
      "Epoch 30 complete\n",
      "Accuracy on evaluation data: 9705 / 10000\n",
      "Epoch 31 complete\n",
      "Accuracy on evaluation data: 9715 / 10000\n",
      "Epoch 32 complete\n",
      "Accuracy on evaluation data: 9712 / 10000\n",
      "Epoch 33 complete\n",
      "Accuracy on evaluation data: 9721 / 10000\n",
      "Epoch 34 complete\n",
      "Accuracy on evaluation data: 9714 / 10000\n",
      "Epoch 35 complete\n",
      "Accuracy on evaluation data: 9727 / 10000\n",
      "Epoch 36 complete\n",
      "Accuracy on evaluation data: 9718 / 10000\n",
      "Epoch 37 complete\n",
      "Accuracy on evaluation data: 9730 / 10000\n",
      "Epoch 38 complete\n",
      "Accuracy on evaluation data: 9725 / 10000\n",
      "Epoch 39 complete\n",
      "Accuracy on evaluation data: 9725 / 10000\n",
      "Epoch 40 complete\n",
      "Accuracy on evaluation data: 9717 / 10000\n",
      "Epoch 41 complete\n",
      "Accuracy on evaluation data: 9725 / 10000\n",
      "Epoch 42 complete\n",
      "Accuracy on evaluation data: 9729 / 10000\n",
      "Epoch 43 complete\n",
      "Accuracy on evaluation data: 9733 / 10000\n",
      "Epoch 44 complete\n",
      "Accuracy on evaluation data: 9730 / 10000\n",
      "Epoch 45 complete\n",
      "Accuracy on evaluation data: 9724 / 10000\n",
      "Epoch 46 complete\n",
      "Accuracy on evaluation data: 9732 / 10000\n",
      "Epoch 47 complete\n",
      "Accuracy on evaluation data: 9742 / 10000\n",
      "Epoch 48 complete\n",
      "Accuracy on evaluation data: 9742 / 10000\n",
      "Epoch 49 complete\n",
      "Accuracy on evaluation data: 9740 / 10000\n"
     ]
    },
    {
     "data": {
      "text/plain": [
       "([],\n",
       " [8944,\n",
       "  9186,\n",
       "  9293,\n",
       "  9361,\n",
       "  9442,\n",
       "  9476,\n",
       "  9499,\n",
       "  9543,\n",
       "  9553,\n",
       "  9574,\n",
       "  9567,\n",
       "  9593,\n",
       "  9612,\n",
       "  9629,\n",
       "  9633,\n",
       "  9632,\n",
       "  9650,\n",
       "  9646,\n",
       "  9654,\n",
       "  9670,\n",
       "  9669,\n",
       "  9683,\n",
       "  9684,\n",
       "  9683,\n",
       "  9687,\n",
       "  9687,\n",
       "  9693,\n",
       "  9691,\n",
       "  9697,\n",
       "  9700,\n",
       "  9705,\n",
       "  9715,\n",
       "  9712,\n",
       "  9721,\n",
       "  9714,\n",
       "  9727,\n",
       "  9718,\n",
       "  9730,\n",
       "  9725,\n",
       "  9725,\n",
       "  9717,\n",
       "  9725,\n",
       "  9729,\n",
       "  9733,\n",
       "  9730,\n",
       "  9724,\n",
       "  9732,\n",
       "  9742,\n",
       "  9742,\n",
       "  9740],\n",
       " [],\n",
       " [])"
      ]
     },
     "execution_count": 4,
     "metadata": {},
     "output_type": "execute_result"
    }
   ],
   "source": [
    "net.default_weight_initializer()\n",
    "net.SGD(\n",
    "    training_data, 50, 20, 0.5, evaluation_data=evaluation_data, \n",
    "    monitor_evaluation_accuracy=True)"
   ]
  },
  {
   "cell_type": "markdown",
   "metadata": {},
   "source": [
    "## Investigate Regularization "
   ]
  },
  {
   "cell_type": "code",
   "execution_count": 10,
   "metadata": {},
   "outputs": [
    {
     "name": "stdout",
     "output_type": "stream",
     "text": [
      "Epoch 0 complete\n",
      "Cost on trianing data : 127.10240899912895\n",
      "Accuracy on training data: 97 / 1000\n",
      "Cost on evaluation data: 127.04003676238834\n",
      "Accuracy on evaluation data: 991 / 10000\n",
      "Epoch 1 complete\n",
      "Cost on trianing data : 127.07906084934218\n",
      "Accuracy on training data: 97 / 1000\n",
      "Cost on evaluation data: 127.01656919677377\n",
      "Accuracy on evaluation data: 991 / 10000\n",
      "Epoch 2 complete\n",
      "Cost on trianing data : 127.05556523994309\n",
      "Accuracy on training data: 97 / 1000\n",
      "Cost on evaluation data: 126.99295319151814\n",
      "Accuracy on evaluation data: 991 / 10000\n",
      "Epoch 3 complete\n",
      "Cost on trianing data : 127.0319196505596\n",
      "Accuracy on training data: 97 / 1000\n"
     ]
    },
    {
     "ename": "KeyboardInterrupt",
     "evalue": "",
     "output_type": "error",
     "traceback": [
      "\u001b[0;31m---------------------------------------------------------------------------\u001b[0m",
      "\u001b[0;31mKeyboardInterrupt\u001b[0m                         Traceback (most recent call last)",
      "\u001b[0;32m<ipython-input-10-c35cc732a075>\u001b[0m in \u001b[0;36m<module>\u001b[0;34m()\u001b[0m\n\u001b[1;32m      8\u001b[0m     \u001b[0mmonitor_evaluation_accuracy\u001b[0m\u001b[0;34m=\u001b[0m\u001b[0;32mTrue\u001b[0m\u001b[0;34m,\u001b[0m\u001b[0;34m\u001b[0m\u001b[0m\n\u001b[1;32m      9\u001b[0m     \u001b[0mmonitor_training_cost\u001b[0m\u001b[0;34m=\u001b[0m\u001b[0;32mTrue\u001b[0m\u001b[0;34m,\u001b[0m\u001b[0;34m\u001b[0m\u001b[0m\n\u001b[0;32m---> 10\u001b[0;31m     monitor_training_accuracy=True)\n\u001b[0m",
      "\u001b[0;32m~/Documents/github/deep-learning-py35/playground/network2.py\u001b[0m in \u001b[0;36mSGD\u001b[0;34m(self, training_data, epochs, mini_batch_size, eta, lmbda, evaluation_data, monitor_evaluation_cost, monitor_evaluation_accuracy, monitor_training_cost, monitor_training_accuracy, early_stopping_n)\u001b[0m\n\u001b[1;32m    156\u001b[0m                 \u001b[0mprint\u001b[0m\u001b[0;34m(\u001b[0m\u001b[0;34m'Accuracy on training data: {} / {}'\u001b[0m\u001b[0;34m.\u001b[0m\u001b[0mformat\u001b[0m\u001b[0;34m(\u001b[0m\u001b[0maccuracy\u001b[0m\u001b[0;34m,\u001b[0m \u001b[0mn\u001b[0m\u001b[0;34m)\u001b[0m\u001b[0;34m)\u001b[0m\u001b[0;34m\u001b[0m\u001b[0m\n\u001b[1;32m    157\u001b[0m             \u001b[0;32mif\u001b[0m \u001b[0mmonitor_evaluation_cost\u001b[0m\u001b[0;34m:\u001b[0m\u001b[0;34m\u001b[0m\u001b[0m\n\u001b[0;32m--> 158\u001b[0;31m                 \u001b[0mcost\u001b[0m \u001b[0;34m=\u001b[0m \u001b[0mself\u001b[0m\u001b[0;34m.\u001b[0m\u001b[0mtotal_cost\u001b[0m\u001b[0;34m(\u001b[0m\u001b[0mevaluation_data\u001b[0m\u001b[0;34m,\u001b[0m \u001b[0mlmbda\u001b[0m\u001b[0;34m,\u001b[0m \u001b[0mconvert\u001b[0m\u001b[0;34m=\u001b[0m\u001b[0;32mTrue\u001b[0m\u001b[0;34m)\u001b[0m\u001b[0;34m\u001b[0m\u001b[0m\n\u001b[0m\u001b[1;32m    159\u001b[0m                 \u001b[0mevaluation_cost\u001b[0m\u001b[0;34m.\u001b[0m\u001b[0mappend\u001b[0m\u001b[0;34m(\u001b[0m\u001b[0mcost\u001b[0m\u001b[0;34m)\u001b[0m\u001b[0;34m\u001b[0m\u001b[0m\n\u001b[1;32m    160\u001b[0m                 \u001b[0mprint\u001b[0m\u001b[0;34m(\u001b[0m\u001b[0;34m'Cost on evaluation data: {}'\u001b[0m\u001b[0;34m.\u001b[0m\u001b[0mformat\u001b[0m\u001b[0;34m(\u001b[0m\u001b[0mcost\u001b[0m\u001b[0;34m)\u001b[0m\u001b[0;34m)\u001b[0m\u001b[0;34m\u001b[0m\u001b[0m\n",
      "\u001b[0;32m~/Documents/github/deep-learning-py35/playground/network2.py\u001b[0m in \u001b[0;36mtotal_cost\u001b[0;34m(self, data, lmbda, convert)\u001b[0m\n\u001b[1;32m    254\u001b[0m             \u001b[0ma\u001b[0m \u001b[0;34m=\u001b[0m \u001b[0mself\u001b[0m\u001b[0;34m.\u001b[0m\u001b[0mfeedforward\u001b[0m\u001b[0;34m(\u001b[0m\u001b[0mx\u001b[0m\u001b[0;34m)\u001b[0m\u001b[0;34m\u001b[0m\u001b[0m\n\u001b[1;32m    255\u001b[0m             \u001b[0;32mif\u001b[0m \u001b[0mconvert\u001b[0m\u001b[0;34m:\u001b[0m \u001b[0my\u001b[0m \u001b[0;34m=\u001b[0m \u001b[0mvectorized_result\u001b[0m\u001b[0;34m(\u001b[0m\u001b[0my\u001b[0m\u001b[0;34m)\u001b[0m\u001b[0;34m\u001b[0m\u001b[0m\n\u001b[0;32m--> 256\u001b[0;31m             \u001b[0mcost\u001b[0m \u001b[0;34m+=\u001b[0m \u001b[0mself\u001b[0m\u001b[0;34m.\u001b[0m\u001b[0mcost\u001b[0m\u001b[0;34m.\u001b[0m\u001b[0mfn\u001b[0m\u001b[0;34m(\u001b[0m\u001b[0ma\u001b[0m\u001b[0;34m,\u001b[0m \u001b[0my\u001b[0m\u001b[0;34m)\u001b[0m\u001b[0;34m/\u001b[0m\u001b[0mlen\u001b[0m\u001b[0;34m(\u001b[0m\u001b[0mdata\u001b[0m\u001b[0;34m)\u001b[0m\u001b[0;34m\u001b[0m\u001b[0m\n\u001b[0m\u001b[1;32m    257\u001b[0m             \u001b[0mcost\u001b[0m \u001b[0;34m+=\u001b[0m \u001b[0;36m0.5\u001b[0m\u001b[0;34m*\u001b[0m\u001b[0;34m(\u001b[0m\u001b[0mlmbda\u001b[0m\u001b[0;34m/\u001b[0m\u001b[0mlen\u001b[0m\u001b[0;34m(\u001b[0m\u001b[0mdata\u001b[0m\u001b[0;34m)\u001b[0m\u001b[0;34m)\u001b[0m\u001b[0;34m*\u001b[0m\u001b[0msum\u001b[0m\u001b[0;34m(\u001b[0m\u001b[0mnp\u001b[0m\u001b[0;34m.\u001b[0m\u001b[0mlinalg\u001b[0m\u001b[0;34m.\u001b[0m\u001b[0mnorm\u001b[0m\u001b[0;34m(\u001b[0m\u001b[0mw\u001b[0m\u001b[0;34m)\u001b[0m\u001b[0;34m**\u001b[0m\u001b[0;36m2\u001b[0m \u001b[0;32mfor\u001b[0m \u001b[0mw\u001b[0m \u001b[0;32min\u001b[0m \u001b[0mself\u001b[0m\u001b[0;34m.\u001b[0m\u001b[0mweights\u001b[0m\u001b[0;34m)\u001b[0m\u001b[0;34m\u001b[0m\u001b[0m\n\u001b[1;32m    258\u001b[0m         \u001b[0;32mreturn\u001b[0m \u001b[0mcost\u001b[0m\u001b[0;34m\u001b[0m\u001b[0m\n",
      "\u001b[0;32m~/Documents/github/deep-learning-py35/playground/network2.py\u001b[0m in \u001b[0;36mfn\u001b[0;34m(a, y)\u001b[0m\n\u001b[1;32m     48\u001b[0m         \u001b[0mbecause\u001b[0m \u001b[0mnp\u001b[0m\u001b[0;34m.\u001b[0m\u001b[0mlog\u001b[0m\u001b[0;34m(\u001b[0m\u001b[0;36m0\u001b[0m\u001b[0;34m)\u001b[0m \u001b[0mwill\u001b[0m \u001b[0mproduce\u001b[0m \u001b[0mnan\u001b[0m\u001b[0;34m.\u001b[0m\u001b[0;34m\u001b[0m\u001b[0m\n\u001b[1;32m     49\u001b[0m         \"\"\"\n\u001b[0;32m---> 50\u001b[0;31m         \u001b[0;32mreturn\u001b[0m \u001b[0mnp\u001b[0m\u001b[0;34m.\u001b[0m\u001b[0msum\u001b[0m\u001b[0;34m(\u001b[0m\u001b[0mnp\u001b[0m\u001b[0;34m.\u001b[0m\u001b[0mnan_to_num\u001b[0m\u001b[0;34m(\u001b[0m\u001b[0;34m-\u001b[0m\u001b[0my\u001b[0m\u001b[0;34m*\u001b[0m\u001b[0mnp\u001b[0m\u001b[0;34m.\u001b[0m\u001b[0mlog\u001b[0m\u001b[0;34m(\u001b[0m\u001b[0ma\u001b[0m\u001b[0;34m)\u001b[0m \u001b[0;34m-\u001b[0m \u001b[0;34m(\u001b[0m\u001b[0;36m1\u001b[0m\u001b[0;34m-\u001b[0m\u001b[0my\u001b[0m\u001b[0;34m)\u001b[0m\u001b[0;34m*\u001b[0m\u001b[0mnp\u001b[0m\u001b[0;34m.\u001b[0m\u001b[0mlog\u001b[0m\u001b[0;34m(\u001b[0m\u001b[0;36m1\u001b[0m\u001b[0;34m-\u001b[0m\u001b[0ma\u001b[0m\u001b[0;34m)\u001b[0m\u001b[0;34m)\u001b[0m\u001b[0;34m)\u001b[0m\u001b[0;34m\u001b[0m\u001b[0m\n\u001b[0m\u001b[1;32m     51\u001b[0m \u001b[0;34m\u001b[0m\u001b[0m\n\u001b[1;32m     52\u001b[0m \u001b[0;34m\u001b[0m\u001b[0m\n",
      "\u001b[0;32m~/anaconda3/envs/py36/lib/python3.6/site-packages/numpy/core/fromnumeric.py\u001b[0m in \u001b[0;36msum\u001b[0;34m(a, axis, dtype, out, keepdims)\u001b[0m\n\u001b[1;32m   1832\u001b[0m             \u001b[0;32mreturn\u001b[0m \u001b[0msum\u001b[0m\u001b[0;34m(\u001b[0m\u001b[0maxis\u001b[0m\u001b[0;34m=\u001b[0m\u001b[0maxis\u001b[0m\u001b[0;34m,\u001b[0m \u001b[0mdtype\u001b[0m\u001b[0;34m=\u001b[0m\u001b[0mdtype\u001b[0m\u001b[0;34m,\u001b[0m \u001b[0mout\u001b[0m\u001b[0;34m=\u001b[0m\u001b[0mout\u001b[0m\u001b[0;34m,\u001b[0m \u001b[0;34m**\u001b[0m\u001b[0mkwargs\u001b[0m\u001b[0;34m)\u001b[0m\u001b[0;34m\u001b[0m\u001b[0m\n\u001b[1;32m   1833\u001b[0m     return _methods._sum(a, axis=axis, dtype=dtype,\n\u001b[0;32m-> 1834\u001b[0;31m                          out=out, **kwargs)\n\u001b[0m\u001b[1;32m   1835\u001b[0m \u001b[0;34m\u001b[0m\u001b[0m\n\u001b[1;32m   1836\u001b[0m \u001b[0;34m\u001b[0m\u001b[0m\n",
      "\u001b[0;32m~/anaconda3/envs/py36/lib/python3.6/site-packages/numpy/core/_methods.py\u001b[0m in \u001b[0;36m_sum\u001b[0;34m(a, axis, dtype, out, keepdims)\u001b[0m\n\u001b[1;32m     30\u001b[0m \u001b[0;34m\u001b[0m\u001b[0m\n\u001b[1;32m     31\u001b[0m \u001b[0;32mdef\u001b[0m \u001b[0m_sum\u001b[0m\u001b[0;34m(\u001b[0m\u001b[0ma\u001b[0m\u001b[0;34m,\u001b[0m \u001b[0maxis\u001b[0m\u001b[0;34m=\u001b[0m\u001b[0;32mNone\u001b[0m\u001b[0;34m,\u001b[0m \u001b[0mdtype\u001b[0m\u001b[0;34m=\u001b[0m\u001b[0;32mNone\u001b[0m\u001b[0;34m,\u001b[0m \u001b[0mout\u001b[0m\u001b[0;34m=\u001b[0m\u001b[0;32mNone\u001b[0m\u001b[0;34m,\u001b[0m \u001b[0mkeepdims\u001b[0m\u001b[0;34m=\u001b[0m\u001b[0;32mFalse\u001b[0m\u001b[0;34m)\u001b[0m\u001b[0;34m:\u001b[0m\u001b[0;34m\u001b[0m\u001b[0m\n\u001b[0;32m---> 32\u001b[0;31m     \u001b[0;32mreturn\u001b[0m \u001b[0mumr_sum\u001b[0m\u001b[0;34m(\u001b[0m\u001b[0ma\u001b[0m\u001b[0;34m,\u001b[0m \u001b[0maxis\u001b[0m\u001b[0;34m,\u001b[0m \u001b[0mdtype\u001b[0m\u001b[0;34m,\u001b[0m \u001b[0mout\u001b[0m\u001b[0;34m,\u001b[0m \u001b[0mkeepdims\u001b[0m\u001b[0;34m)\u001b[0m\u001b[0;34m\u001b[0m\u001b[0m\n\u001b[0m\u001b[1;32m     33\u001b[0m \u001b[0;34m\u001b[0m\u001b[0m\n\u001b[1;32m     34\u001b[0m \u001b[0;32mdef\u001b[0m \u001b[0m_prod\u001b[0m\u001b[0;34m(\u001b[0m\u001b[0ma\u001b[0m\u001b[0;34m,\u001b[0m \u001b[0maxis\u001b[0m\u001b[0;34m=\u001b[0m\u001b[0;32mNone\u001b[0m\u001b[0;34m,\u001b[0m \u001b[0mdtype\u001b[0m\u001b[0;34m=\u001b[0m\u001b[0;32mNone\u001b[0m\u001b[0;34m,\u001b[0m \u001b[0mout\u001b[0m\u001b[0;34m=\u001b[0m\u001b[0;32mNone\u001b[0m\u001b[0;34m,\u001b[0m \u001b[0mkeepdims\u001b[0m\u001b[0;34m=\u001b[0m\u001b[0;32mFalse\u001b[0m\u001b[0;34m)\u001b[0m\u001b[0;34m:\u001b[0m\u001b[0;34m\u001b[0m\u001b[0m\n",
      "\u001b[0;31mKeyboardInterrupt\u001b[0m: "
     ]
    }
   ],
   "source": [
    "net2 = network2.Network([784, 30, 10], cost=network2.CrossEntropyCost) \n",
    "net2.large_weight_initializer()\n",
    "training_set_size = 1000\n",
    "test_cost, test_accuracy, training_cost, training_accuracy = net2.SGD(\n",
    "    list(training_data)[:training_set_size], 400, 10, 0.5, \n",
    "    evaluation_data=validation_data, \n",
    "    monitor_evaluation_cost=True,\n",
    "    monitor_evaluation_accuracy=True, \n",
    "    monitor_training_cost=True, \n",
    "    monitor_training_accuracy=True)"
   ]
  },
  {
   "cell_type": "markdown",
   "metadata": {},
   "source": [
    "Let's make some plots to see directly the performance of our network:"
   ]
  },
  {
   "cell_type": "code",
   "execution_count": null,
   "metadata": {
    "collapsed": true
   },
   "outputs": [],
   "source": [
    "%matplotlib inline\n",
    "\n",
    "import matplotlib\n",
    "import matplotlib.pyplot as plt"
   ]
  },
  {
   "cell_type": "code",
   "execution_count": null,
   "metadata": {
    "collapsed": true
   },
   "outputs": [],
   "source": [
    "def plot_overlay(test_accuracy, training_accuracy, num_epochs, xmin,\n",
    "                 training_set_size):\n",
    "    fig = plt.figure()\n",
    "    ax = fig.add_subplot(111)\n",
    "    ax.plot(np.arange(xmin, num_epochs), \n",
    "            [accuracy/100.0 for accuracy in test_accuracy], \n",
    "            color='#2A6EA6',\n",
    "            label=\"Accuracy on the test data\")\n",
    "    ax.plot(np.arange(xmin, num_epochs), \n",
    "            [accuracy*100.0/training_set_size \n",
    "             for accuracy in training_accuracy], \n",
    "            color='#FFA933',\n",
    "            label=\"Accuracy on the training data\")\n",
    "    ax.grid(True)\n",
    "    ax.set_xlim([xmin, num_epochs])\n",
    "    ax.set_xlabel('Epoch')\n",
    "    ax.set_ylim([90, 100])\n",
    "    plt.legend(loc=\"lower right\")\n",
    "    plt.show()"
   ]
  },
  {
   "cell_type": "code",
   "execution_count": null,
   "metadata": {
    "collapsed": true
   },
   "outputs": [],
   "source": [
    "num_epochs = 400\n",
    "test_accuracy_xmin = 200\n",
    "training_accuracy_xmin = 0\n",
    "\n",
    "plot_overlay(test_accuracy, training_accuracy, num_epochs,\n",
    "                 min(test_accuracy_xmin, training_accuracy_xmin),\n",
    "                 training_set_size)"
   ]
  }
 ],
 "metadata": {
  "kernelspec": {
   "display_name": "Python [conda env:py36]",
   "language": "python",
   "name": "conda-env-py36-py"
  },
  "language_info": {
   "codemirror_mode": {
    "name": "ipython",
    "version": 3
   },
   "file_extension": ".py",
   "mimetype": "text/x-python",
   "name": "python",
   "nbconvert_exporter": "python",
   "pygments_lexer": "ipython3",
   "version": "3.6.2"
  },
  "toc": {
   "colors": {
    "hover_highlight": "#DAA520",
    "navigate_num": "#000000",
    "navigate_text": "#333333",
    "running_highlight": "#FF0000",
    "selected_highlight": "#FFD700",
    "sidebar_border": "#EEEEEE",
    "wrapper_background": "#FFFFFF"
   },
   "moveMenuLeft": true,
   "nav_menu": {
    "height": "64px",
    "width": "254px"
   },
   "navigate_menu": true,
   "number_sections": true,
   "sideBar": true,
   "threshold": 4,
   "toc_cell": false,
   "toc_section_display": "block",
   "toc_window_display": false,
   "widenNotebook": false
  }
 },
 "nbformat": 4,
 "nbformat_minor": 2
}
